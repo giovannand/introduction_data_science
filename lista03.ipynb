{
 "cells": [
  {
   "cell_type": "markdown",
   "metadata": {
    "deletable": false,
    "editable": false,
    "nbgrader": {
     "checksum": "f1796c012907828484a2c147eb847ac8",
     "grade": false,
     "grade_id": "cellc-a00",
     "locked": true,
     "schema_version": 1,
     "solution": false
    }
   },
   "source": [
    "# Aula 03 - Álgebra Linear"
   ]
  },
  {
   "cell_type": "markdown",
   "metadata": {
    "deletable": false,
    "editable": false,
    "nbgrader": {
     "checksum": "79e8b1fe604f0ab1c6cc17af1bb5434b",
     "grade": false,
     "grade_id": "cell1c-a00",
     "locked": true,
     "schema_version": 1,
     "solution": false
    }
   },
   "source": [
    "# Exercício 01:\n",
    "\n",
    "Crie uma matriz `n x m` com valores aleatórios entre 0 e 1. Use uma semente global (_seed_) igual a 10.\n",
    "\n"
   ]
  },
  {
   "cell_type": "code",
   "execution_count": 1,
   "metadata": {
    "deletable": false,
    "nbgrader": {
     "checksum": "f44c870298162cfd6293661d312cc9e9",
     "grade": true,
     "grade_id": "cell1-a00",
     "locked": false,
     "points": 1,
     "schema_version": 1,
     "solution": true
    }
   },
   "outputs": [],
   "source": [
    "#Exemplo:\n",
    "n = 10\n",
    "m = 5\n",
    "import random\n",
    "\n",
    "random.seed(10)\n",
    "\n",
    "matrix =  [[ random.random()              \n",
    "             for j in range(m)]   \n",
    "                for i in range(n)] \n"
   ]
  },
  {
   "cell_type": "markdown",
   "metadata": {
    "deletable": false,
    "editable": false,
    "nbgrader": {
     "checksum": "9ba50f4bdf8f399aafe152823b60a499",
     "grade": false,
     "grade_id": "cell2c-a00",
     "locked": true,
     "schema_version": 1,
     "solution": false
    }
   },
   "source": [
    "# Exercício 02:\n",
    "\n",
    "Considere que matrizes `n x m` são listas contendo `n` vetores de tamanho `m`. Mostre visualmente a diferença entre a funções de distância Euclidiana e de cosseno. Para isso, use a matriz criada no exercício anterior e calcule a distância entre todos os pares de vetores $u$ e $v$ ($u \\neq $v) dessa matriz. Para visualizar as diferenças, plote o gráfico de dispersão das distâncias, ou seja, no eixo `x` teremos a distância Euclidiana e no eixo `y` a distância de cosseno para cada par de vetores $u$ e $v$."
   ]
  },
  {
   "cell_type": "code",
   "execution_count": 2,
   "metadata": {},
   "outputs": [],
   "source": [
    "from matplotlib import pyplot as plt\n",
    "import numpy as np\n",
    "import math\n",
    "from collections import defaultdict"
   ]
  },
  {
   "cell_type": "code",
   "execution_count": 3,
   "metadata": {},
   "outputs": [],
   "source": [
    "matplotlib inline"
   ]
  },
  {
   "cell_type": "code",
   "execution_count": 4,
   "metadata": {},
   "outputs": [],
   "source": [
    "def return_zero(i,j):\n",
    "    return 0\n",
    "\n",
    "def get_row(A, i):\n",
    "    return A[i] \n",
    "\n",
    "def dot(v, w):\n",
    "    \"\"\"v_1 * w_1 + ... + v_n * w_n\"\"\"\n",
    "    return sum(v_i * w_i\n",
    "        for v_i, w_i in zip(v, w))\n",
    "\n",
    "def vector_subtract(v, w):\n",
    "    \"\"\"subtracts corresponding elements\"\"\"\n",
    "    return [v_i - w_i for v_i, w_i in zip(v, w)]\n",
    "\n",
    "def sum_of_squares(v):\n",
    "    \"\"\"v_1 * v_1 + ... + v_n * v_n\"\"\"\n",
    "    return dot(v, v)\n",
    "\n",
    "def squared_distance(v, w):\n",
    "    \"\"\"(v_1 - w_1) * 2 + ... + (v_n - w_n) * 2\"\"\"\n",
    "    return sum_of_squares(vector_subtract(v, w))\n",
    "\n",
    "def distance(v, w):\n",
    "    return math.sqrt(squared_distance(v, w))\n",
    "\n",
    "def cosine_similarity(v, w):\n",
    "    return dot(v, w) / math.sqrt(dot(v, v) * dot(w, w))\n",
    "\n",
    "def cosine_distance(v, w):\n",
    "    return 1 - cosine_similarity(v,w)"
   ]
  },
  {
   "cell_type": "code",
   "execution_count": 5,
   "metadata": {
    "deletable": false,
    "nbgrader": {
     "checksum": "9e0fdc6e6f2d0a71b0f20794bc06e184",
     "grade": true,
     "grade_id": "cell2-a00",
     "locked": false,
     "points": 1,
     "schema_version": 1,
     "solution": true
    }
   },
   "outputs": [
    {
     "data": {
      "image/png": "[encoded data removed]",
      "text/plain": [
       "<Figure size 432x288 with 1 Axes>"
      ]
     },
     "metadata": {},
     "output_type": "display_data"
    }
   ],
   "source": [
    "distances  = []\n",
    "similarity = []\n",
    "for x in range(n):\n",
    "    for y in range(n):\n",
    "        if x < y :\n",
    "            distances.append(distance(get_row(matrix,x) ,get_row(matrix,y) ))\n",
    "            similarity.append(cosine_distance(get_row(matrix,x),get_row(matrix,y) ) )\n",
    "\n",
    "plt.scatter(distances, similarity)\n",
    "plt.title(\"Distncia euclidiana vs Similaridade\")\n",
    "plt.xlabel(\"Distancia euclidiana\")\n",
    "plt.ylabel(\"Similaridade de cosseno\")\n",
    "plt.show()"
   ]
  }
 ],
 "metadata": {
  "kernelspec": {
   "display_name": "Python 3",
   "language": "python",
   "name": "python3"
  },
  "language_info": {
   "codemirror_mode": {
    "name": "ipython",
    "version": 3
   },
   "file_extension": ".py",
   "mimetype": "text/x-python",
   "name": "python",
   "nbconvert_exporter": "python",
   "pygments_lexer": "ipython3",
   "version": "3.6.5"
  }
 },
 "nbformat": 4,
 "nbformat_minor": 2
}
