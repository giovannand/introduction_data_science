{
 "cells": [
  {
   "cell_type": "markdown",
   "metadata": {},
   "source": [
    "# Primeiro resumo - Python 3\n"
   ]
  },
  {
   "cell_type": "markdown",
   "metadata": {},
   "source": [
    "Dicas de atalhos do jupyter notebook : https://www.dataquest.io/blog/jupyter-notebook-tips-tricks-shortcuts/"
   ]
  },
  {
   "cell_type": "markdown",
   "metadata": {},
   "source": [
    "### Regex"
   ]
  },
  {
   "cell_type": "code",
   "execution_count": 3,
   "metadata": {},
   "outputs": [
    {
     "name": "stdout",
     "output_type": "stream",
     "text": [
      "1253\n"
     ]
    }
   ],
   "source": [
    "import re\n",
    "my_regex = re.compile(\"[0-9]+\", re.I)\n",
    "\n",
    "result = my_regex.search(\"Distância percorrida: 1253 metros.\")\n",
    "print(result.group(0))"
   ]
  },
  {
   "cell_type": "markdown",
   "metadata": {},
   "source": [
    "### Funçoes"
   ]
  },
  {
   "cell_type": "code",
   "execution_count": 20,
   "metadata": {},
   "outputs": [
    {
     "name": "stdout",
     "output_type": "stream",
     "text": [
      "2\n",
      "10\n"
     ]
    }
   ],
   "source": [
    "# Uma funçao tambem pode ser passada como parametro por serem de primeira classe\n",
    "def sum_one (x):\n",
    "    x = x + 1\n",
    "    return x\n",
    "    \n",
    "def apply_func_to_one(funct):\n",
    "    return funct(1)\n",
    "\n",
    "x = sum_one\n",
    "print(apply_func_to_one(x)) \n",
    "print(apply_func_to_one(lambda x : x + 9 ))\n"
   ]
  },
  {
   "cell_type": "markdown",
   "metadata": {},
   "source": [
    "### Escape"
   ]
  },
  {
   "cell_type": "code",
   "execution_count": 22,
   "metadata": {},
   "outputs": [
    {
     "name": "stdout",
     "output_type": "stream",
     "text": [
      "\\t 2\n"
     ]
    }
   ],
   "source": [
    "not_tab_string = r\"\\t\"\n",
    "len(not_tab_string)\n",
    "print(not_tab_string, len(not_tab_string))"
   ]
  },
  {
   "cell_type": "markdown",
   "metadata": {},
   "source": [
    "### Excessoes"
   ]
  },
  {
   "cell_type": "code",
   "execution_count": 23,
   "metadata": {},
   "outputs": [
    {
     "name": "stdout",
     "output_type": "stream",
     "text": [
      "cannot divide by zero\n"
     ]
    }
   ],
   "source": [
    "try:\n",
    "    print(0 / 0)\n",
    "except ZeroDivisionError:\n",
    "    print(\"cannot divide by zero\")\n",
    "    "
   ]
  },
  {
   "cell_type": "markdown",
   "metadata": {},
   "source": [
    "### Listas"
   ]
  },
  {
   "cell_type": "code",
   "execution_count": 41,
   "metadata": {},
   "outputs": [],
   "source": [
    "#Criando listas \n",
    "\n",
    "lista = list(range(10))\n",
    "#Somando itens da lista\n",
    "sum(lista)\n",
    "\n",
    "#Tamanho\n",
    "len(lista)\n",
    "\n",
    "#Acessando indices\n",
    "indice_5 = lista[5]\n",
    "ultimo_indice = lista[-1]\n",
    "\n",
    "#Atribuindo \n",
    "\n",
    "lista[5] = 5+10\n",
    "\n",
    "#Pedaço da lista \n",
    "primeira_metade = lista[:5]\n",
    "\n",
    "#Pertence a lista - retorna True/False   -!!! Pouco eficiente !!!  Complex O(N) \n",
    "if(1 in [1, 2, 3]):\n",
    "    #print(\"Pertence\")\n",
    "    pass\n",
    "else:\n",
    "    #print(\"N pertence\")\n",
    "    pass\n",
    "\n",
    "#Concatenar \n",
    "x = [1, 2, 3]\n",
    "x.extend([4, 5, 6]) \n",
    "\n",
    "# OR \n",
    "\n",
    "x = [1, 2, 3]\n",
    "y = x  + [4, 5, 6]\n",
    "\n",
    "# OR \n",
    "\n",
    "x.append(0)\n",
    "\n",
    "#Converter itens em variaveis (unpack)    ( _ para ignorar )\n",
    "x,y, _ = [1,2,3]\n"
   ]
  },
  {
   "cell_type": "markdown",
   "metadata": {},
   "source": [
    "### Tuplas"
   ]
  },
  {
   "cell_type": "code",
   "execution_count": 49,
   "metadata": {},
   "outputs": [
    {
     "name": "stdout",
     "output_type": "stream",
     "text": [
      "0 1\n"
     ]
    }
   ],
   "source": [
    "#Sao listas imutaveis \n",
    "\n",
    "tupla = (1,2)  #tupla[0] = 1 retorna erro\n",
    "lista = [1,2]  #lista[0] = 1 altera o valor\n",
    "\n",
    "# E otima para retornar valores de funcoes\n",
    "\n",
    "def sum_and_sub(x,y):\n",
    "    return (x+y),(x-y)\n",
    "\n",
    "soma = sum_and_sub(3,3)\n",
    "rest_soma,rest_sub = sum_and_sub(3,3)\n",
    "x = 1\n",
    "y = 0\n",
    "x,y = y,x \n",
    "print(x,y)"
   ]
  },
  {
   "cell_type": "markdown",
   "metadata": {},
   "source": [
    "### Dicionario"
   ]
  },
  {
   "cell_type": "code",
   "execution_count": 83,
   "metadata": {},
   "outputs": [
    {
     "name": "stdout",
     "output_type": "stream",
     "text": [
      "24 - {'giovanna': 24, 'giuliano': 21}\n",
      "('giovanna', 24)\n",
      "{('giovanna', 24): 'primeiro_irmao'}\n",
      "0\n",
      "defaultdict(<class 'int'>, {'Oi': 2, 'gio.': 1, 'gab': 1})\n"
     ]
    }
   ],
   "source": [
    "#Adiciona chave no dicionario \n",
    "irmaos_idade = {}\n",
    "irmaos_idade = {\"giovanna\":23,\"giuliano\":21}\n",
    "\n",
    "#Procura chave no dicionario\n",
    "tem_gabriel = \"gabriel\" in irmaos_idade\n",
    "tem_gabriel = irmaos_idade.get(\"gabriel\")\n",
    "\n",
    "#Altera e exibe valor da cheve\n",
    "irmaos_idade[\"giovanna\"] = 24\n",
    "print(irmaos_idade['giovanna'],\"-\", irmaos_idade)\n",
    "\n",
    "#Tamanho\n",
    "tam = len(irmaos_idade)\n",
    "\n",
    "#Lista de chaves e valores e tupla\n",
    "chaves = irmaos_idade.keys()\n",
    "valores= irmaos_idade.values()\n",
    "tuplas = irmaos_idade.items() \n",
    "lista_de_tuplas = list(tuplas) #Como tuplas sao imutaveis, elas podem ser um dicionario\n",
    "print( lista_de_tuplas[0])  \n",
    "#Usar tuplas para chaves compostas \n",
    "dict_tuplas ={lista_de_tuplas[0]:\"primeiro_irmao\"}\n",
    "print (dict_tuplas)\n",
    "\n",
    "#Somando valores para chaves se elas existem ou nao sem dar except \n",
    "\n",
    "from collections import defaultdict\n",
    "\n",
    "text = \"Oi gio. Oi gab\"\n",
    "document = text.split()   #transforma a string em uma list de palavras\n",
    "\n",
    "word_counts = defaultdict(int)         # int() não tem argumentos\n",
    "print(int())                           # int() retorna 0\n",
    "\n",
    "for word in document:\n",
    "    word_counts[word] += 1\n",
    "\n",
    "print(word_counts)"
   ]
  },
  {
   "cell_type": "code",
   "execution_count": null,
   "metadata": {},
   "outputs": [],
   "source": [
    "\n"
   ]
  },
  {
   "cell_type": "code",
   "execution_count": null,
   "metadata": {},
   "outputs": [],
   "source": []
  },
  {
   "cell_type": "code",
   "execution_count": null,
   "metadata": {},
   "outputs": [],
   "source": []
  },
  {
   "cell_type": "code",
   "execution_count": null,
   "metadata": {},
   "outputs": [],
   "source": []
  },
  {
   "cell_type": "code",
   "execution_count": null,
   "metadata": {},
   "outputs": [],
   "source": []
  }
 ],
 "metadata": {
  "kernelspec": {
   "display_name": "Python 3",
   "language": "python",
   "name": "python3"
  },
  "language_info": {
   "codemirror_mode": {
    "name": "ipython",
    "version": 3
   },
   "file_extension": ".py",
   "mimetype": "text/x-python",
   "name": "python",
   "nbconvert_exporter": "python",
   "pygments_lexer": "ipython3",
   "version": "3.6.5"
  }
 },
 "nbformat": 4,
 "nbformat_minor": 2
}
